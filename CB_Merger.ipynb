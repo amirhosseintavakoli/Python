{
 "cells": [
  {
   "cell_type": "code",
   "execution_count": 55,
   "metadata": {},
   "outputs": [],
   "source": [
    "import requests\n",
    "from bs4 import BeautifulSoup\n",
    "import re\n",
    "import csv\n",
    "import pandas as pd\n",
    "import openpyxl"
   ]
  },
  {
   "cell_type": "code",
   "execution_count": 56,
   "metadata": {},
   "outputs": [],
   "source": [
    "path = 'CB_Merger_Review.xlsx'\n",
    "df1 = pd.DataFrame(columns = ['Parties', 'NAICS', 'Results', 'Month', 'Year'])"
   ]
  },
  {
   "cell_type": "code",
   "execution_count": 57,
   "metadata": {},
   "outputs": [],
   "source": [
    "websites = [\"https://www.competitionbureau.gc.ca/eic/site/cb-bc.nsf/eng/04294.html\",\n",
    "\"https://www.competitionbureau.gc.ca/eic/site/cb-bc.nsf/eng/04293.html\",\n",
    "\"https://www.competitionbureau.gc.ca/eic/site/cb-bc.nsf/eng/04337.html\",\n",
    "\"https://www.competitionbureau.gc.ca/eic/site/cb-bc.nsf/eng/02435.html\",\n",
    "\"https://www.competitionbureau.gc.ca/eic/site/cb-bc.nsf/eng/04290.html\",\n",
    "\"https://www.competitionbureau.gc.ca/eic/site/cb-bc.nsf/eng/04291.html\"]\n",
    "for website in websites:\n",
    "    result = requests.get(website)\n",
    "    src = result.content\n",
    "    soup = BeautifulSoup(src, 'lxml')\n",
    "    tbodies = soup.find_all(\"tbody\")\n",
    "    for tbody in tbodies:\n",
    "        mergers = tbody.find_all(\"tr\")\n",
    "        for merger in mergers:\n",
    "            output_party = merger.contents[1].string\n",
    "            output_date = merger.contents[3].string\n",
    "            output_ruling = merger.contents[5].string\n",
    "            output_month = tbody.parent['id']\n",
    "            output_year = tbody.parent.caption.string\n",
    "#             f.writerow([output_party, output_date, output_ruling, output_month, output_year])\n",
    "            df = pd.DataFrame({'Parties':[output_party], 'NAICS':[output_date], 'Results': [output_ruling], 'Month':[output_month], 'Year':[output_year]})\n",
    "            df1 = pd.concat([df1, df], ignore_index=True)\n",
    "df1.to_excel(path)"
   ]
  }
 ],
 "metadata": {
  "kernelspec": {
   "display_name": "Python 3",
   "language": "python",
   "name": "python3"
  },
  "language_info": {
   "codemirror_mode": {
    "name": "ipython",
    "version": 3
   },
   "file_extension": ".py",
   "mimetype": "text/x-python",
   "name": "python",
   "nbconvert_exporter": "python",
   "pygments_lexer": "ipython3",
   "version": "3.7.3"
  }
 },
 "nbformat": 4,
 "nbformat_minor": 4
}
